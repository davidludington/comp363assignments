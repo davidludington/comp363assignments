{
  "nbformat": 4,
  "nbformat_minor": 0,
  "metadata": {
    "colab": {
      "provenance": [],
      "authorship_tag": "ABX9TyPl4NSur4zt65EY6jG/NVco",
      "include_colab_link": true
    },
    "kernelspec": {
      "name": "python3",
      "display_name": "Python 3"
    },
    "language_info": {
      "name": "python"
    }
  },
  "cells": [
    {
      "cell_type": "markdown",
      "metadata": {
        "id": "view-in-github",
        "colab_type": "text"
      },
      "source": [
        "<a href=\"https://colab.research.google.com/github/davidludington/comp363assignments/blob/main/karatsuba_multiplication.ipynb\" target=\"_parent\"><img src=\"https://colab.research.google.com/assets/colab-badge.svg\" alt=\"Open In Colab\"/></a>"
      ]
    },
    {
      "cell_type": "code",
      "source": [
        "import sys\n",
        "import time\n",
        "import random\n",
        "sys.set_int_max_str_digits(0)\n",
        "\n",
        "def randNum_lengthN(n):\n",
        "  rangeStart = 10**(n-1)\n",
        "  rangeEnd = (10**n)-1\n",
        "  return str(random.randint(rangeStart, rangeEnd))\n",
        "\n",
        "def mult_str(x,y):\n",
        "    start_time = time.perf_counter()\n",
        "    if len(x) == len(y) == 1:\n",
        "        # Base case!\n",
        "        return str(int(x)*int(y))\n",
        "    else:\n",
        "        # Split strings into left and right halves\n",
        "        n = len(x) # current length of x and y\n",
        "        m = n//2   # half length      #  Here we use fancy Python slicing\n",
        "        a = x[:m]  # left half of     #  ommitting the beginning of the\n",
        "        b = x[m:]  # right half of x  #  string if the slice starts there,\n",
        "        c = y[:m]  # left half of y   #  i.e., x[0:m] same as x[:m]. Ditto for\n",
        "        d = y[m:]  # right half of y  #  x[m:n] = x[m:], when n = last char.\n",
        "\n",
        "        # Compute the four products needed, recursively\n",
        "        ac = mult_str(a,c)\n",
        "        bc = mult_str(b,c)\n",
        "        ad = mult_str(a,d)\n",
        "        bd = mult_str(b,d)\n",
        "\n",
        "        bcad = str(int(bc)+int(ad)) # bc+ad\n",
        "        ac10n = ac + \"0\"*n # multiply ac by 10^n by adding n zeros after it\n",
        "        bcad10m = bcad + \"0\"*m #  multiply ac by 10^m by adding m zeros after it\n",
        "\n",
        "        # Done\n",
        "        #print(start_time - time.perf_counter())\n",
        "        return str(int(ac10n)+int(bcad10m)+int(bd))\n",
        "\n",
        "def karatsuba_str(x, y):\n",
        "  if len(x) == 1 or len(y) == 1:\n",
        "    #base case\n",
        "    return str(int(x) * int(y))\n",
        "  else:\n",
        "    n = len(x)\n",
        "    m = n//2\n",
        "    a = x[:m]\n",
        "    b = x[m:]\n",
        "    c = y[:m]\n",
        "    d = y[m:]\n",
        "\n",
        "    if a == '':\n",
        "      a = '0'\n",
        "    if b == '':\n",
        "      b = '0'\n",
        "    if c == '':\n",
        "      c = '0'\n",
        "    if d == '':\n",
        "      d = '0'\n",
        "\n",
        "    \"\"\"\n",
        "    ac = karatsuba_str(a,c)\n",
        "    ab = karatsuba_str(a,b)\n",
        "    bd = karatsuba_str(b,d)\n",
        "\n",
        "    # ac*10^n + ((a+b)(c+d)-ac-bd)*10^m + bd\n",
        "\n",
        "    f = str(int(a) + int (b))\n",
        "    g = str(int(b) + int (d))\n",
        "    karatsuba = karatsuba_str(f,g)\n",
        "    middle = str(int(karatsuba) - int(ac) - int(ab))\n",
        "    ac10n = ac + \"0\"*n\n",
        "    middle10m = middle + \"0\"*m\n",
        "\n",
        "    return str(int(ac10n) + int(middle10m) - int(bd))\n",
        "    \"\"\"\n",
        "\n",
        "    ac = karatsuba_str(a,c)\n",
        "    bd = karatsuba_str(b,d)\n",
        "    ad_plus_bc = karatsuba_str(str(int(a) + int(b)), str(int(c)+int(d)))\n",
        "    ad_plus_bc = str(int(ad_plus_bc) - int(ac) - int(bd))\n",
        "\n",
        "    ac10n = ac + \"0\"*n\n",
        "    ad_plus_bc10m = ad_plus_bc + \"0\"*m\n",
        "\n",
        "    return str(int(ac10n) + int(ad_plus_bc10m) + int(bd))\n",
        "\n",
        "\n",
        "\n",
        "start_time = time.time()\n",
        "print(\"n    T(n) plain                T(n) Karatsuba\")\n",
        "print(\"-    --------------            --------------\")\n",
        "\n",
        "for i in range(1,14):\n",
        "  n = 2**i\n",
        "  mult_str(randNum_lengthN(n), randNum_lengthN(n))\n",
        "  print(n, \" \", (time.time() - start_time), \"   \", end=\"\")\n",
        "  start_time = time.time()\n",
        "  karatsuba_str(randNum_lengthN(n), randNum_lengthN(n))\n",
        "  print(time.time() - start_time)\n",
        "\n"
      ],
      "metadata": {
        "colab": {
          "base_uri": "https://localhost:8080/"
        },
        "id": "dsKfUhHvzUxR",
        "outputId": "1c0278e6-4386-411f-c550-76076be2435d"
      },
      "execution_count": null,
      "outputs": [
        {
          "output_type": "stream",
          "name": "stdout",
          "text": [
            "n    T(n) plain                T(n) Karatsuba\n",
            "-    --------------            --------------\n",
            "2   0.002289295196533203    2.3603439331054688e-05\n",
            "4   0.00030040740966796875    4.00543212890625e-05\n",
            "8   0.0004608631134033203    0.00013589859008789062\n",
            "16   0.0005631446838378906    0.0002269744873046875\n",
            "32   0.0017135143280029297    0.0007758140563964844\n",
            "64   0.0061647891998291016    0.002155303955078125\n",
            "128   0.023778438568115234    0.006497621536254883\n",
            "256   0.09408950805664062    0.02100372314453125\n",
            "512   0.3945136070251465    0.06898283958435059\n",
            "1024   1.506648063659668    0.1822500228881836\n",
            "2048   6.987087965011597    0.5645177364349365\n",
            "4096   26.27998995780945    1.7082953453063965\n",
            "8192   105.70988607406616    5.2671332359313965\n"
          ]
        }
      ]
    }
  ]
}