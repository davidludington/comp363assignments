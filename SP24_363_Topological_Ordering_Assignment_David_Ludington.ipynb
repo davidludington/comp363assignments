{
  "nbformat": 4,
  "nbformat_minor": 0,
  "metadata": {
    "colab": {
      "provenance": [],
      "include_colab_link": true
    },
    "kernelspec": {
      "name": "python3",
      "display_name": "Python 3"
    },
    "language_info": {
      "name": "python"
    }
  },
  "cells": [
    {
      "cell_type": "markdown",
      "metadata": {
        "id": "view-in-github",
        "colab_type": "text"
      },
      "source": [
        "<a href=\"https://colab.research.google.com/github/davidludington/comp363assignments/blob/main/SP24_363_Topological_Ordering_Assignment_David_Ludington.ipynb\" target=\"_parent\"><img src=\"https://colab.research.google.com/assets/colab-badge.svg\" alt=\"Open In Colab\"/></a>"
      ]
    },
    {
      "cell_type": "markdown",
      "source": [
        "# Graphs - Topological Ordering - Assignment\n",
        "\n",
        "\n",
        "\n",
        "Assuming that every directed acyclic graph (*dag*) has at least one source vertex, we can prove that **every dag has a topological ordering** -- denoted as $f$. The proof is straightforward for a graph $G=(V,E)$. Assuming that $v_1$ is the source vertex of the graph, we assign it the first $f$ value: $f(v_1)=1$. Next, we remove $v_1$ and all its edges from $G$, resulting into a subgraph $G'$ which is also a dag. As such, it has at least one source vertex, let's say $v_2$. We assign the next $f$ value to $v_2$, and remove it and its edges from $G'$. The resulting subgraph $G''$ is also a dag, has a source vertex, and so on. The recursion eventually stops (when it reaches a sink vertex). As we move from subgraph to subgraph in this process, for example from $G'$ to $G''$, we eliminate the outgoing edges of $G'$'s source, i.e., its forward edges. And as we line up $v_1$, $v_2$, etc, the edges point forward.\n",
        "\n",
        "Let's apply the proof to the following graph. The source vertex is `0`.\n",
        "\n",
        "![topo sort example](https://drive.google.com/uc?id=1_9D1sP2Z7jO1xcLdv8c5qcfseqVkZuB_)\n",
        "\n",
        "\n",
        "In step (a) above, we remove the source vertex `0` and its edges. We also assign $f(0)=1$ by placing vertex `0` at the start of the linear representation of the graph.\n",
        "\n",
        "The remaining subgraph in step (b) has two source vertices. We'll process them one at a time, beginning by removing vertex `2`. That leaves the subgraph in step (c) with one source and we remove vertex `1`. The subgraph in step (d) also has one source, vertex `4`, that we remove. There is only one vertex left in step (e) which is where our process stops.\n",
        "\n",
        "The rearrangement of vertices on a line, in the order they were removed, is the topological ordering of the graph. All the edges in the topological ordering point forward."
      ],
      "metadata": {
        "id": "Gq38YOF5lsid"
      }
    },
    {
      "cell_type": "markdown",
      "source": [
        "Of course we don't really want to be removing and deleting elements from the graph; that will destroy the graph. We wish to maintain the effects of removal, without damaging the graph.\n",
        "\n",
        "What happens when we remove vertices and their outgoing edges? The in-degree of the vertices where those edges are pointing, is reduced. As a reminder, the *in-degree* of the vertex is the number of its *incoming* edges.\n",
        "\n",
        "Consinder, for example, the in-degree for vertex `4`. Originally, there are two edges pointing to `4`, and so its in-degree is 2 (step a, below).\n",
        "\n",
        "![topo sort step by step](https://drive.google.com/uc?id=1_FZAEW4qo4xjDucP-6zWs7K-16OimD-A)\n",
        "\n",
        "\n",
        "In the second step (b), vertex `4` loses an incoming edge since we remove vertex `2` and its outgoing edges. So the in-degree of vertex `4` becomes 1. In step (c) above, the in-degree of vertex `4` drops to 0. Vertex `4` is now a source vertex and we can process it next by removing its outgoing edges: effectively that reduces the in-degree of its successor vertices by 1.\n",
        "\n",
        "Consider an array, `in_deg`, such that `in_deg[i]` is the in-degree of vertex with label `i`. Originally, we have `in_deg = [0, 1, 1, 2, 2]`. Then, through successive removals of source vertices we have:\n",
        "\n",
        "* Step (a): `in_deg = [0, 0, 0, 2, 2]` due to removal of edges `(0,1)` and `(0,2)`. Source vertex is `0`.\n",
        "\n",
        "* Step (b): `in_deg = [0, 0, 0, 2, 1]` due to removal of edge `(2,4)`. Source vertex is `2`.\n",
        "\n",
        "* Step (c): `in_deg = [0, 0, 0, 1, 0]` due to removal of edges `(1,4)` and `(1,3)`. Source vertex is `1`.\n",
        "\n",
        "* Step (d): `in_deg = [0, 0, 0, 0, 0]` due to removal of edge `(4,3)`. Source vertex is `4`.\n",
        "\n",
        "* Step (e): No further edge removals are possible. Source vertex is `3`.\n",
        "\n",
        "\n",
        "Assembling the source vertices in the order they appear above, we have `0, 2, 1, 4, 3` which is the topological ordering of the graph.\n",
        "\n",
        "# Assignment\n",
        "\n",
        "Implement a function that accepts the adjacency *list* of a directed acyclic graph and a vertex label in that graph, and returns its in-degree. Then, implement a function that produces a topological ordering of a *dag.*"
      ],
      "metadata": {
        "id": "DFMZbDwEhp3a"
      }
    },
    {
      "cell_type": "code",
      "source": [
        "from pathlib import PosixPath\n",
        "def in_degree(dag,v):\n",
        "  \"\"\"Find the in-degree of vertex v in the input\n",
        "  directed acyclic graph -- dag\n",
        "\n",
        "  Inputs\n",
        "  ------\n",
        "  dag : list of lists\n",
        "    adj list for input graph\n",
        "  v : int\n",
        "    a vertex in dag\n",
        "\n",
        "  Returns\n",
        "  int : the in-degree of v\n",
        "  \"\"\"\n",
        "  # YOUR CODE\n",
        "  in_degree_v = 0 #init int in degree to return\n",
        "  for vertex in dag: #iterate through each vertex\n",
        "    for i in vertex: #iterate through each edge\n",
        "      if i == v: #if that vertex has an edge to the vertex we are trying to detrime the indegree of we increment the counter\n",
        "        in_degree_v += 1 #inc counter\n",
        "  return in_degree_v\n",
        "\n",
        "\n",
        "def topo(dag):\n",
        "  \"\"\"Find the in-degree of vertex v in the input\n",
        "  directed acyclic graph -- dag\n",
        "\n",
        "  Inputs\n",
        "  ------\n",
        "  dag : list of lists\n",
        "    adj list for input graph; assume graph is acyclic and directed\n",
        "\n",
        "  Returns\n",
        "  int list:\n",
        "    topological ordering of the graph's vertices\n",
        "  \"\"\"\n",
        "\n",
        "  \"\"\"\n",
        "\n",
        "  Step-1: Compute in-degree (number of incoming edges) for each of the vertex present in the DAG and initialize the count of visited nodes as 0.\n",
        "  Step-2: Pick all the vertices with in-degree as 0 and add them into a queue (Enqueue operation)\n",
        "  Step-3: Remove a vertex from the queue (Dequeue operation) and then.\n",
        "\n",
        "  Increment the count of visited nodes by 1.\n",
        "  Decrease in-degree by 1 for all its neighbouring nodes.\n",
        "  If the in-degree of neighbouring nodes is reduced to zero, then add it to the queue.\n",
        "  Step 4: Repeat Step 3 until the queue is empty.\n",
        "  Step 5: If the count of visited nodes is not equal to the number of nodes in the graph then the topological sort is not possible for the given graph.\n",
        "  \"\"\"\n",
        "  # YOUR CODE HERE\n",
        "  in_deg = [0] * len(dag) #init array to hold indegree for each edge\n",
        "  for i in range(len(dag)):\n",
        "    in_deg[i] = in_degree(dag, i); #populate in_deg array with indegree of edges\n",
        "\n",
        "  queue = []  #initalize queue\n",
        "  for i in range(len(dag)):\n",
        "    if(in_deg[i] == 0): #iterate over in_deg array to find edges with in-degree 0\n",
        "      queue.append(i) #add those edges with in-degree to the queue to be processed\n",
        "\n",
        "  visited_count = 0 #count of visited nodes to detrime whether a cycle exists\n",
        "  top_order = []\n",
        "\n",
        "  while queue: #while the queue isnt empty pop items from the front while there are items in the queue\n",
        "    pop = queue.pop(0)\n",
        "    top_order.append(pop) #add the popped items from the in-degree 0 queue\n",
        "    for i in dag[pop]: #for all of th poped element's adj edges, decrement indegree for the verticies that have edges from the poped element\n",
        "      in_deg[i] -= 1\n",
        "      if in_deg[i] == 0:\n",
        "        queue.append(i) #add element with in-degree 0 to the queue\n",
        "    visited_count += 1\n",
        "\n",
        "  if(visited_count != len(dag)):\n",
        "     return \"a cycle exists\" # if a cycle exits do not print list and print a cycle exits\n",
        "\n",
        "\n",
        "  return top_order"
      ],
      "metadata": {
        "id": "CfDhsIE5LxWj"
      },
      "execution_count": null,
      "outputs": []
    },
    {
      "cell_type": "code",
      "source": [
        "# TEST\n",
        "# This is the adjacency list of the graph used in the examples above.\n",
        "test = [ [1,2], [3,4], [4], [], [3] ]\n",
        "test1 = [ [1,2], [3,4], [4], [0], [3] ]\n",
        "\n",
        "print(topo(test)) # Should return [0, 2, 1, 4, 3]\n",
        "print(topo(test1))"
      ],
      "metadata": {
        "id": "67ckE3abiP15",
        "colab": {
          "base_uri": "https://localhost:8080/"
        },
        "outputId": "a71f1290-84e4-4378-fcb9-93461c995908"
      },
      "execution_count": null,
      "outputs": [
        {
          "output_type": "stream",
          "name": "stdout",
          "text": [
            "[0, 1, 2, 4, 3]\n",
            "a cycle exists\n"
          ]
        }
      ]
    }
  ]
}