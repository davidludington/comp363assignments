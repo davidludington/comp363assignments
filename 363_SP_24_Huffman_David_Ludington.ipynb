{
  "nbformat": 4,
  "nbformat_minor": 0,
  "metadata": {
    "colab": {
      "provenance": [],
      "include_colab_link": true
    },
    "kernelspec": {
      "name": "python3",
      "display_name": "Python 3"
    },
    "language_info": {
      "name": "python"
    }
  },
  "cells": [
    {
      "cell_type": "markdown",
      "metadata": {
        "id": "view-in-github",
        "colab_type": "text"
      },
      "source": [
        "<a href=\"https://colab.research.google.com/github/davidludington/comp363assignments/blob/main/363_SP_24_Huffman_David_Ludington.ipynb\" target=\"_parent\"><img src=\"https://colab.research.google.com/assets/colab-badge.svg\" alt=\"Open In Colab\"/></a>"
      ]
    },
    {
      "cell_type": "markdown",
      "source": [
        "# Huffman encoding\n",
        "\n",
        "## Objective\n",
        "\n",
        "Encode an input string with a variable-length code based on [Huffman's technique](https://drive.google.com/file/d/1alRJwxo6tYZZA81tStR4pk5OZkFDIua8/view?usp=drive_link). The Huffman algorithm is:\n",
        "\n",
        "```text\n",
        "Initialize: forest of leaf nodes, each containing a\n",
        "symbol from the input string and its frequency.\n",
        "\n",
        "while forest has more than 1 nodes:\n",
        "\n",
        "  remove two nodes with the lowest frequencies.\n",
        "  \n",
        "  create a new node with no symbol and the sum of\n",
        "  these two lowest frequencies\n",
        "\n",
        "  add the removed nodes as left and right children\n",
        "  to the new node\n",
        "\n",
        "  add the new node to the forest\n",
        "\n",
        "The path from the remaining node in the forest to each\n",
        "leaf node is the Huffman code of the symbol in that node.\n",
        "```\n",
        "\n",
        "As we discussed in class, the technique is conceptually straight forward. However its implementation presents us with some challenges."
      ],
      "metadata": {
        "id": "kaqPgRWDeCl-"
      }
    },
    {
      "cell_type": "markdown",
      "source": [
        "## How to represent symbol frequencies\n",
        "\n",
        "The string `'HELLO WORLD'` has eight symbols: `H`, `E`, `L`, `O`, space, `W`, `R`, and `D`. Their frequencies are 1, 1, 3, 2, 1, 1, 1, and 1. In other words, each symbol appears once except for `L` and `O` that appear three and two times respectively.\n",
        "\n",
        "We discussed two possible ways to represent the frequencies, in implementation: as a humble array (a Python list) or as a hashtable (a Python dictionary)."
      ],
      "metadata": {
        "id": "BxCQs1QIWEtL"
      }
    },
    {
      "cell_type": "code",
      "execution_count": null,
      "metadata": {
        "id": "mcheY7oBcGko"
      },
      "outputs": [],
      "source": [
        "def frequencies_dict(message: str) -> dict:\n",
        "  \"\"\"Returns the symbol frequency of a string as a dictionary.\"\"\"\n",
        "  frequency = dict() # Initialize a dictionary\n",
        "  if message is not None and len(message) > 0: # Input not null and not empty\n",
        "    for symbol in message: # For every symbol in the string\n",
        "      if symbol in frequency: # If symbol already in dictionary\n",
        "        frequency[symbol] += 1 # increase frequency for this symbol\n",
        "      else: # Symbol not a dictionary yet\n",
        "        frequency[symbol] = 1 # Initialize frequency for this symbol\n",
        "  return frequency # Done"
      ]
    },
    {
      "cell_type": "code",
      "source": [
        "def frequencies_list(message: str) -> dict:\n",
        "  \"\"\"Returns the symbol frequency of a string as a list.\"\"\"\n",
        "  space = ord(' ') # lowest ASCII value to consider\n",
        "  tilde = ord('~') # highest ASCII valeu to consider\n",
        "  from_space_to_tilde = tilde-space # Range of ASCII values to consider\n",
        "  frequency = [0] * from_space_to_tilde # Array for ASCII values to consider\n",
        "  if message is not None and len(message) > 0: # Input not null and not empty\n",
        "    for symbol in message: # For every symbol in the string\n",
        "      symbol_ascii = ord(symbol)-space # Symbol ASCII shifted for array indexing\n",
        "      if symbol_ascii <= from_space_to_tilde: # ASCII symbol within range\n",
        "        frequency[symbol_ascii] += 1 # Update frequency for this symbol\n",
        "  return frequency # Done"
      ],
      "metadata": {
        "id": "lwwKmNwOgiPM"
      },
      "execution_count": null,
      "outputs": []
    },
    {
      "cell_type": "code",
      "source": [
        "class Huffman_Node:\n",
        "  \"\"\"Plain node suitable for binary trees. The node stores a frequency and a\n",
        "  symbol. When no symbol is given, the node considers it null, and stores only\n",
        "  the frequency.\"\"\"\n",
        "  # Constructor\n",
        "  def __init__(self, frequency, symbol=None):\n",
        "    self.symbol = symbol\n",
        "    self.frequency = frequency\n",
        "    self.left = None\n",
        "    self.right = None\n",
        "  # Override < operator to compare nodes based only on frequency\n",
        "  def __lt__(self, other):\n",
        "    return self.frequency < other.frequency"
      ],
      "metadata": {
        "id": "NwbU5ZkNfGWO"
      },
      "execution_count": null,
      "outputs": []
    },
    {
      "cell_type": "markdown",
      "source": [
        "# Your assignment\n",
        "\n",
        "Write as many methods as you feel are needed to complete the encoding of a string.\n",
        "\n",
        "Your deliverables are:\n",
        "\n",
        "* the encoded message\n",
        "* the encoding table (so that who ever received the encoded message, they can decode it),\n",
        "* a compression report (see below for details),\n",
        "* a method that decodes an encoded message (when the encoding table is available).\n",
        "\n",
        "The compression report should be a *formatted* string that, when printed, will display the following:\n",
        "\n",
        "```\n",
        "Input string length: 1,234 characters\n",
        "8-bit storage required: 9,872 bits\n",
        "Encoded string length: 456 bits\n",
        "Net compression: 95.3%\n",
        "```\n",
        "\n",
        "The input string length is just the `len(message)`. The 8-bit storage required is `8*len(message)`. The encoded string length is the number of 0s and 1s required to replace each string in the message, with the corresponding Huffman code. Net compression is defined as\n",
        "\n",
        "$$100\\times(1-\\frac{\\text{Encoded string length}}{\\text{Input string length}})$$\n",
        "\n",
        "## Anticipated challenges\n",
        "\n",
        "Once you finish the while-loop in the pseudocode, you'll need to traverse every path from the root node to each symbol, to obtain its Huffman code. If the input string is `'HELLO WORLD'`, the final tree will be the following.\n",
        "\n",
        "\n",
        "![huffman-complete](https://drive.google.com/uc?id=1axiu-SAImK4yTIFBoUwMLfWvYnVLTUOl)\n",
        "\n",
        "Obtaining the codes, for example `LLLL` for `'H'`, `LLLR` for `'E'`, etc is probably the most challenging part of the implementation. Once you have your encoding table, the original message `'HELLO WORLD'` will be encoded as:\n",
        "\n",
        "```text\n",
        "LLLLLLLRLRLRLLRRLLRLRLLRRRLLRRRR\n",
        "```\n",
        "The Huffman encoding takes 32 bits (if we convert `L` and `R` directions to 0s and 1s). This is significantly shorter than the plain ASCII encoding that requires 88 bits:\n",
        "\n",
        "```text\n",
        "0100100001000101010011000100110001001111001000000101011101001111010100100100110001000100\n",
        "```\n",
        "\n",
        "To obtain the codes you need to traverse the tree, saving the path directions for each symbol. Remember that the tree is just a graph. Consider the root node as the starting vertex, in a *reachability* scenario. Intuitively, we know that every leaf node is reachable from the starting vertex in this graph.\n",
        "\n",
        "We looked at graph traversals for reachability studies a few weeks ago. The overall technique is to use some data structure (we called it a *bag)* to save nodes to explore later. When that bag is accessed in stack fashion, the travesal is called *depth-first search* (DFS).\n",
        "\n",
        "DFS will get you to each leaf node. The trick now is to maintain a string, for each leaf node, accumulating the left/right choices leading to that node. And you may want to replace left/right with 0/1 for a more thorough binary representation.\n",
        "\n",
        "**If you have any doubts** about your DFS code, please share your notebook with me and let me help.\n",
        "\n",
        "\n"
      ],
      "metadata": {
        "id": "U5aHsapbmt93"
      }
    },
    {
      "cell_type": "code",
      "source": [
        "import heapq\n",
        "def build_huffman_tree(frequencies: dict) -> Huffman_Node:\n",
        "    \"\"\"Builds a Huffman tree given a dictionary of symbol frequencies.\"\"\"\n",
        "    priority_queue = [Huffman_Node(freq, sym) for sym, freq in frequencies.items()] #initialize a priority queue with leaf nodes for each symbol, with the frequency and symbol provided.\n",
        "    heapq.heapify(priority_queue) #Then, we convert the list into a min-heap\n",
        "    while len(priority_queue) > 1: #for loop to combine the two lowest frequency nodes until there's only one node left in the priority queue\n",
        "        left = heapq.heappop(priority_queue)\n",
        "        right = heapq.heappop(priority_queue)\n",
        "        merged = Huffman_Node(left.frequency + right.frequency)\n",
        "        merged.left = left\n",
        "        merged.right = right\n",
        "        heapq.heappush(priority_queue, merged)\n",
        "    return priority_queue[0]"
      ],
      "metadata": {
        "id": "eIaBVNqDKIsp"
      },
      "execution_count": null,
      "outputs": []
    },
    {
      "cell_type": "code",
      "source": [
        "def generate_encoding_table(root: Huffman_Node, prefix=\"\", encoding_table=None) -> dict:\n",
        "    \"\"\"Generates an encoding table from a Huffman tree.\"\"\"\n",
        "    if encoding_table is None:\n",
        "        encoding_table = {} #init an empty table to recursivly call\n",
        "    if root is None:\n",
        "        return encoding_table #If the root is None, we simply return the current state of the encoding table\n",
        "    if root.symbol is not None: #If the current node is a leaf node (i.e., it has a symbol), we add its symbol and corresponding prefix to the encoding table\n",
        "        encoding_table[root.symbol] = prefix\n",
        "    generate_encoding_table(root.left, prefix + \"0\", encoding_table)\n",
        "    generate_encoding_table(root.right, prefix + \"1\", encoding_table)\n",
        "    return encoding_table"
      ],
      "metadata": {
        "id": "mkypX_FLKOXW"
      },
      "execution_count": null,
      "outputs": []
    },
    {
      "cell_type": "code",
      "source": [
        "def encode_message(message: str, encoding_table: dict) -> str:\n",
        "    \"\"\"Encodes a message using the given encoding table.\"\"\"\n",
        "    encoded_message = \"\"\n",
        "    for symbol in message:\n",
        "        encoded_message += encoding_table[symbol]\n",
        "    return encoded_message\n",
        "\n",
        "def decode_message(encoded_message: str, encoding_table: dict) -> str:\n",
        "    \"\"\"Decodes an encoded message using the given encoding table.\"\"\"\n",
        "    reverse_encoding_table = {code: symbol for symbol, code in encoding_table.items()}\n",
        "    decoded_message = \"\"\n",
        "    current_code = \"\"\n",
        "    for bit in encoded_message:\n",
        "        current_code += bit\n",
        "        if current_code in reverse_encoding_table:\n",
        "            decoded_message += reverse_encoding_table[current_code]\n",
        "            current_code = \"\"\n",
        "    return decoded_message\n",
        "\n",
        "def compression_report(message: str, encoded_message: str) -> str:\n",
        "    \"\"\"Generates a compression report.\"\"\"\n",
        "    input_length = len(message)\n",
        "    eight_bit_storage = 8 * input_length\n",
        "    encoded_length = len(encoded_message)\n",
        "    net_compression = 100 * (1 - encoded_length / input_length)\n",
        "    report = f\"Input string length: {input_length} characters\\n\"\n",
        "    report += f\"8-bit storage required: {eight_bit_storage} bits\\n\"\n",
        "    report += f\"Encoded string length: {encoded_length} bits\\n\"\n",
        "    report += f\"Net compression: {net_compression:.1f}%\\n\"\n",
        "    return report"
      ],
      "metadata": {
        "id": "aUlUgIgxKUTs"
      },
      "execution_count": null,
      "outputs": []
    },
    {
      "cell_type": "code",
      "source": [
        "message = \"the quick brown fox jumpes over them \"\n",
        "\n",
        "frequencies = frequencies_dict(message)\n",
        "\n",
        "root = build_huffman_tree(frequencies)\n",
        "\n",
        "encoding_table = generate_encoding_table(root)\n",
        "\n",
        "encoded_message = encode_message(message, encoding_table)\n",
        "\n",
        "decoded_message = decode_message(encoded_message, encoding_table)\n",
        "\n",
        "report = compression_report(message, encoded_message)\n",
        "\n",
        "print(\"Original message:\", message)\n",
        "print(\"Encoded message:\", encoded_message)\n",
        "print(\"Decoded message:\", decoded_message)\n",
        "print(\"\\nCompression Report:\")\n",
        "print(report)\n"
      ],
      "metadata": {
        "id": "wl-gfjUdMzXv",
        "colab": {
          "base_uri": "https://localhost:8080/"
        },
        "outputId": "4d0737f7-52ba-47db-bb7a-983ce023c412"
      },
      "execution_count": null,
      "outputs": [
        {
          "output_type": "stream",
          "name": "stdout",
          "text": [
            "Original message: the quick brown fox jumpes over them \n",
            "Encoded message: 11001000010111100111011001111110000010111100110100011010100101000111011101101000111110001001101001001001010101011111010101110110001111100100001011001111\n",
            "Decoded message: the quick brown fox jumpes over them \n",
            "\n",
            "Compression Report:\n",
            "Input string length: 37 characters\n",
            "8-bit storage required: 296 bits\n",
            "Encoded string length: 152 bits\n",
            "Net compression: -310.8%\n",
            "\n"
          ]
        }
      ]
    }
  ]
}